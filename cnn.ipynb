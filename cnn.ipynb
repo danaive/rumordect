{
 "cells": [
  {
   "cell_type": "code",
   "execution_count": 1,
   "metadata": {},
   "outputs": [],
   "source": [
    "import json\n",
    "import numpy as np\n",
    "import torch\n",
    "import torch.nn as nn\n",
    "import torch.nn.functional as F\n",
    "import torch.optim as optim\n",
    "from torch.autograd import Variable\n",
    "from torch.utils.data import Dataset, DataLoader\n",
    "from sklearn.model_selection import train_test_split\n",
    "from glob import glob\n",
    "use_cuda = torch.cuda.is_available()"
   ]
  },
  {
   "cell_type": "code",
   "execution_count": 47,
   "metadata": {},
   "outputs": [],
   "source": [
    "class DSet(Dataset):\n",
    "\n",
    "    def __init__(self, samples, step=100):\n",
    "        self.data = np.zeros((len(samples), step))\n",
    "        self.target = np.zeros(len(samples), dtype=np.float32)\n",
    "        for i, sample in enumerate(samples):\n",
    "            raw = json.load(open(sample))\n",
    "            begin = raw[0]['t']\n",
    "            span = list(map(lambda x: max(0, x['t'] - begin) + 1, raw))\n",
    "            volumn = map(lambda x: int(x * step / 8.1), np.log10(span))\n",
    "            for item in volumn:\n",
    "                self.data[i][item] += 1\n",
    "            if 'rumor' in sample:\n",
    "                self.target[i] = 1\n",
    "\n",
    "    def __len__(self):\n",
    "        return self.data.shape[0]\n",
    "\n",
    "    def __getitem__(self, idx):\n",
    "        return torch.from_numpy(self.data[idx]).float(), self.target[idx]\n"
   ]
  },
  {
   "cell_type": "code",
   "execution_count": 95,
   "metadata": {},
   "outputs": [],
   "source": [
    "class DSet(Dataset):\n",
    "\n",
    "    def __init__(self, samples, step=100):\n",
    "        self.data = np.zeros((len(samples), step))\n",
    "        self.target = np.zeros(len(samples), dtype=np.float32)\n",
    "        raw_data = json.load(open('prop_span.json'))\n",
    "        for i, sample in enumerate(samples):\n",
    "            span = raw_data[sample]\n",
    "            volumn = map(lambda x: int(x * step / 8.1), np.log10(span))\n",
    "            for item in volumn:\n",
    "                self.data[i][item] += 1\n",
    "            if 'rumor' in sample:\n",
    "                self.target[i] = 1\n",
    "\n",
    "    def __len__(self):\n",
    "        return self.data.shape[0]\n",
    "\n",
    "    def __getitem__(self, idx):\n",
    "        return torch.from_numpy(self.data[idx]).float(), self.target[idx]"
   ]
  },
  {
   "cell_type": "code",
   "execution_count": 108,
   "metadata": {},
   "outputs": [],
   "source": [
    "class DCNN(torch.nn.Module):\n",
    "\n",
    "    def __init__(self, D_in):\n",
    "        super(CNN, self).__init__()\n",
    "        self.conv11 = nn.Conv1d(1, 8, 3, padding=1)\n",
    "        self.conv12 = nn.Conv1d(8, 8, 3, padding=1)\n",
    "        self.conv21 = nn.Conv1d(8, 16, 3, padding=1)\n",
    "        self.conv22 = nn.Conv1d(16, 16, 3, padding=1)\n",
    "        self.conv31 = nn.Conv1d(16, 32, 3, padding=1)\n",
    "        self.conv32 = nn.Conv1d(32, 32, 3, padding=1)\n",
    "        # self.conv4 = nn.Conv1d(32, 64)\n",
    "        self.fc_in = D_in // 8 * 32\n",
    "        self.fc1 = nn.Linear(self.fc_in, 128)\n",
    "        self.fc2 = nn.Linear(128, 32)\n",
    "        self.fc3 = nn.Linear(32, 1)\n",
    "\n",
    "    def forward(self, x):\n",
    "        x = F.relu(self.conv11(x))\n",
    "        x = F.relu(F.max_pool1d(self.conv12(x), 2))\n",
    "        x = F.relu(self.conv21(x))\n",
    "        x = F.relu(F.max_pool1d(self.conv22(x), 2))\n",
    "        x = F.relu(self.conv31(x))\n",
    "        x = F.relu(F.max_pool1d(self.conv32(x), 2))\n",
    "        x = F.dropout(x.view(-1, self.fc_in))\n",
    "        x = F.dropout(F.relu(self.fc1(x)))\n",
    "        x = F.relu(self.fc2(x))\n",
    "        x = self.fc3(x)\n",
    "        return F.sigmoid(x)"
   ]
  },
  {
   "cell_type": "code",
   "execution_count": 105,
   "metadata": {},
   "outputs": [],
   "source": [
    "class CNN(torch.nn.Module):\n",
    "\n",
    "    def __init__(self, D_in):\n",
    "        super(CNN, self).__init__()\n",
    "        self.conv1 = nn.Conv1d(1, 8, 3, padding=1)\n",
    "        self.conv2 = nn.Conv1d(8, 16, 3, padding=1)\n",
    "        # self.conv3 = nn.Conv1d(16, 32)\n",
    "        # self.conv4 = nn.Conv1d(32, 64)\n",
    "        self.fc_in = D_in // 4 * 16\n",
    "        self.fc1 = nn.Linear(self.fc_in, 64)\n",
    "        self.fc2 = nn.Linear(64, 1)\n",
    "\n",
    "    def forward(self, x):\n",
    "        x = F.relu(F.max_pool1d(self.conv1(x), 2))\n",
    "        x = F.relu(F.max_pool1d(self.conv2(x), 2))\n",
    "        x = F.dropout(x.view(-1, self.fc_in))\n",
    "        x = F.relu(self.fc1(x))\n",
    "        x = self.fc2(x)\n",
    "        return F.sigmoid(x)"
   ]
  },
  {
   "cell_type": "code",
   "execution_count": 96,
   "metadata": {},
   "outputs": [],
   "source": [
    "samples = glob('rumor/*.json') + glob('truth/*.json')\n",
    "train_data, test_data = train_test_split(samples, test_size=0.2, random_state=42)\n",
    "kwargs = {'num_workers': 1, 'pin_memory': True} if use_cuda else {}\n",
    "train_loader = DataLoader(DSet(train_data, 100), batch_size=128, **kwargs)\n",
    "test_loader = DataLoader(DSet(test_data, 100), batch_size=128, **kwargs)"
   ]
  },
  {
   "cell_type": "code",
   "execution_count": 97,
   "metadata": {},
   "outputs": [],
   "source": [
    "import matplotlib.pyplot as plt"
   ]
  },
  {
   "cell_type": "code",
   "execution_count": 98,
   "metadata": {},
   "outputs": [
    {
     "data": {
      "text/plain": [
       "(3731, 933)"
      ]
     },
     "execution_count": 98,
     "metadata": {},
     "output_type": "execute_result"
    }
   ],
   "source": [
    "len(train_data), len(test_data)"
   ]
  },
  {
   "cell_type": "code",
   "execution_count": 106,
   "metadata": {},
   "outputs": [],
   "source": [
    "def train(nbatch):\n",
    "    \n",
    "    model = CNN(100)\n",
    "    if use_cuda:\n",
    "        model.cuda()\n",
    "    criterion = nn.BCELoss()\n",
    "    optimizer = optim.RMSprop(model.parameters())\n",
    "\n",
    "    ret = []\n",
    "    for epoch in range(40):\n",
    "        # print('Epoch %03d:' % (epoch + 1))\n",
    "        train_loss, test_loss, tr_acc, val_acc = 0.0, 0.0, 0.0, 0.0\n",
    "        model.train()\n",
    "        for i, (data, target) in enumerate(train_loader):\n",
    "            if i >= nbatch:\n",
    "                break\n",
    "            data = data.view(data.size(0), 1, data.size(1))\n",
    "            target = target.view(target.size(0), 1)\n",
    "            optimizer.zero_grad()\n",
    "            if use_cuda:\n",
    "                data, target = data.cuda(), target.cuda()\n",
    "            data, target = Variable(data), Variable(target)\n",
    "            output = model(data)\n",
    "            loss = criterion(output, target)\n",
    "            loss.backward()\n",
    "            optimizer.step()\n",
    "            train_loss += loss.data[0] * data.size(0)\n",
    "            pred = torch.sign(output.data - 0.5).clamp_(min=0)\n",
    "            tr_acc += pred.eq(target.data).cpu().sum()\n",
    "        # train_loss /= len(train_loader.dataset)\n",
    "        # tr_acc = tr_acc / len(train_loader.dataset) * 100\n",
    "        # print('tr_loss %.6f | tr_acc %.2f%%' % (train_loss, tr_acc))\n",
    "\n",
    "        model.eval()\n",
    "        for data, target in test_loader:\n",
    "            data = data.view(data.size(0), 1, data.size(1))\n",
    "            target = target.view(target.size(0), 1)\n",
    "            if use_cuda:\n",
    "                data, target = data.cuda(), target.cuda()\n",
    "            data, target = Variable(data, volatile=True), Variable(target)\n",
    "            output = model(data)\n",
    "            loss = criterion(output, target)\n",
    "            test_loss += loss.data[0] * data.size(0)\n",
    "            pred = torch.sign(output.data - 0.5).clamp_(min=0)\n",
    "            val_acc += pred.eq(target.data).cpu().sum()\n",
    "        test_loss /= len(test_loader.dataset)\n",
    "        val_acc = val_acc / len(test_loader.dataset) * 100\n",
    "        # print('val_loss %.6f | val_acc %.2f%%' % (test_loss, val_acc))\n",
    "        ret.append(val_acc)\n",
    "    return ret"
   ]
  },
  {
   "cell_type": "code",
   "execution_count": 107,
   "metadata": {},
   "outputs": [
    {
     "data": {
      "image/png": "[encoded data removed]",
      "text/plain": [
       "<matplotlib.figure.Figure at 0x118df78d0>"
      ]
     },
     "metadata": {},
     "output_type": "display_data"
    }
   ],
   "source": [
    "data = dict()\n",
    "plt.figure()\n",
    "for i in range(2, 31, 4):\n",
    "    data[i] = train(i)\n",
    "    plt.plot(data[i], label=str(i))"
   ]
  },
  {
   "cell_type": "code",
   "execution_count": null,
   "metadata": {},
   "outputs": [],
   "source": []
  }
 ],
 "metadata": {
  "kernelspec": {
   "display_name": "Python 3",
   "language": "python",
   "name": "python3"
  },
  "language_info": {
   "codemirror_mode": {
    "name": "ipython",
    "version": 3
   },
   "file_extension": ".py",
   "mimetype": "text/x-python",
   "name": "python",
   "nbconvert_exporter": "python",
   "pygments_lexer": "ipython3",
   "version": "3.6.4"
  }
 },
 "nbformat": 4,
 "nbformat_minor": 2
}
