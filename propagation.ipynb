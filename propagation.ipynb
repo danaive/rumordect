{
 "cells": [
  {
   "cell_type": "code",
   "execution_count": 1,
   "metadata": {},
   "outputs": [],
   "source": [
    "import json\n",
    "import numpy as np\n",
    "import torch\n",
    "import torch.nn as nn\n",
    "import torch.nn.functional as F\n",
    "import torch.optim as optim\n",
    "from torch.autograd import Variable\n",
    "from torch.utils.data import Dataset, DataLoader\n",
    "from sklearn.model_selection import train_test_split\n",
    "from glob import glob\n",
    "\n",
    "\n",
    "use_gpu = torch.cuda.is_available()"
   ]
  },
  {
   "cell_type": "code",
   "execution_count": 2,
   "metadata": {},
   "outputs": [],
   "source": [
    "class DSet(Dataset):\n",
    "\n",
    "    def __init__(self, samples, step=100):\n",
    "        self.data = np.zeros((len(samples), step))\n",
    "        self.target = np.zeros(len(samples), dtype=np.float32)\n",
    "        raw_data = json.load(open('data/prop_span.json'))\n",
    "        for i, sample in enumerate(samples):\n",
    "            span = raw_data[sample]\n",
    "            volumn = map(lambda x: int(x * step / 8.1), np.log10(span))\n",
    "            for item in volumn:\n",
    "                self.data[i][item] += 1\n",
    "            if 'rumor' in sample:\n",
    "                self.target[i] = 1\n",
    "\n",
    "    def __len__(self):\n",
    "        return self.data.shape[0]\n",
    "\n",
    "    def __getitem__(self, idx):\n",
    "        return torch.from_numpy(self.data[idx]).float(), self.target[idx]"
   ]
  },
  {
   "cell_type": "code",
   "execution_count": 43,
   "metadata": {},
   "outputs": [],
   "source": [
    "class CNN(torch.nn.Module):\n",
    "\n",
    "    def __init__(self, input_size):\n",
    "        super(CNN, self).__init__()\n",
    "        self.conv1 = nn.Conv1d(1, 8, 3, padding=1)\n",
    "        self.conv2 = nn.Conv1d(8, 16, 3, padding=1)\n",
    "        self.fc1 = nn.Linear(input_size // 4 * 16, 64)\n",
    "        self.fc2 = nn.Linear(64, 1)\n",
    "\n",
    "    def forward(self, x):\n",
    "        x = x.view(x.size(0), 1, -1)\n",
    "        x = F.relu(F.max_pool1d(self.conv1(x), 2))\n",
    "        x = F.relu(F.max_pool1d(self.conv2(x), 2))\n",
    "        x = F.dropout(x.view(x.size(0), -1), training=self.training)\n",
    "        x = F.relu(self.fc1(x))\n",
    "        x = self.fc2(x)\n",
    "        return F.sigmoid(x)"
   ]
  },
  {
   "cell_type": "code",
   "execution_count": 44,
   "metadata": {},
   "outputs": [],
   "source": [
    "class RNN(torch.nn.Module):\n",
    "\n",
    "    def __init__(self, input_size, hidden_size=64, bidirectional=True):\n",
    "        super(RNN, self).__init__()\n",
    "        self.input_size = input_size\n",
    "        self.hidden_size = hidden_size\n",
    "        self.n_directions = 2 if bidirectional else 1\n",
    "        self.rnn = nn.GRU(input_size, hidden_size, batch_first=True, bidirectional=bidirectional)\n",
    "        self.fc = nn.Linear(hidden_size * self.n_directions, 1)\n",
    "\n",
    "    def forward(self, x):\n",
    "        x = x.view(x.size(0), -1, self.input_size)\n",
    "        h0 = self._init_hidden_state(x.size(0))\n",
    "        x, hn = self.rnn(x, h0)\n",
    "        x = self.fc(x[:, -1, :])\n",
    "        return F.sigmoid(x)\n",
    "\n",
    "    def _init_hidden_state(self, batch_size):\n",
    "        h0 = torch.zeros(self.n_directions, batch_size, self.hidden_size)\n",
    "        if use_gpu:\n",
    "            h0 = h0.cuda()\n",
    "        return Variable(h0)"
   ]
  },
  {
   "cell_type": "code",
   "execution_count": 51,
   "metadata": {},
   "outputs": [],
   "source": [
    "def train(model, n_epoch=20):\n",
    "\n",
    "    if use_gpu:\n",
    "        model.cuda()\n",
    "    criterion = nn.BCELoss()\n",
    "    optimizer = optim.RMSprop(model.parameters())\n",
    "    model_type = model.__class__.__name__\n",
    "\n",
    "    for epoch in range(n_epoch):\n",
    "        print(f'Epoch {(epoch + 1):02d}')\n",
    "        tr_loss, val_loss, tr_acc, val_acc = 0.0, 0.0, 0.0, 0.0\n",
    "        model.train()\n",
    "        for data, target in train_loader:\n",
    "            target = target.view(target.size(0), 1)\n",
    "            optimizer.zero_grad()\n",
    "            if use_gpu:\n",
    "                data, target = data.cuda(), target.cuda()\n",
    "            data, target = Variable(data), Variable(target)\n",
    "            output = model(data)\n",
    "            loss = criterion(output, target)\n",
    "            loss.backward()\n",
    "            optimizer.step()\n",
    "            tr_loss += loss.data[0] * data.size(0)\n",
    "            pred = torch.sign(output.data - 0.5).clamp_(min=0)\n",
    "            tr_acc += pred.eq(target.data).cpu().sum()\n",
    "        tr_loss /= len(train_loader.dataset)\n",
    "        tr_acc = tr_acc / len(train_loader.dataset) * 100\n",
    "        print(f'tr_loss {tr_loss:.6f} | tr_acc {tr_acc:.2f}%')\n",
    "\n",
    "        model.eval()\n",
    "        for data, target in test_loader:\n",
    "            target = target.view(target.size(0), 1)\n",
    "            if use_gpu:\n",
    "                data, target = data.cuda(), target.cuda()\n",
    "            data, target = Variable(data, volatile=True), Variable(target)\n",
    "            output = model(data)\n",
    "            loss = criterion(output, target)\n",
    "            val_loss += loss.data[0] * data.size(0)\n",
    "            pred = torch.sign(output.data - 0.5).clamp_(min=0)\n",
    "            val_acc += pred.eq(target.data).cpu().sum()\n",
    "        val_loss /= len(test_loader.dataset)\n",
    "        val_acc = val_acc / len(test_loader.dataset) * 100\n",
    "        print(f'val_loss {val_loss:.6f} | val_acc {val_acc:.2f}%')"
   ]
  },
  {
   "cell_type": "code",
   "execution_count": 8,
   "metadata": {},
   "outputs": [],
   "source": [
    "samples = glob('rumor/*.json') + glob('truth/*.json')\n",
    "train_data, test_data = train_test_split(samples, test_size=0.2, random_state=42)    \n",
    "kwargs = {'num_workers': 1, 'pin_memory': True} if use_gpu else {}\n",
    "train_loader = DataLoader(DSet(train_data), batch_size=128, **kwargs)\n",
    "test_loader = DataLoader(DSet(test_data), batch_size=128, **kwargs)"
   ]
  },
  {
   "cell_type": "code",
   "execution_count": 48,
   "metadata": {},
   "outputs": [
    {
     "name": "stdout",
     "output_type": "stream",
     "text": [
      "Epoch 01\n",
      "tr_loss 1.126192 | tr_acc 58.91%\n",
      "val_loss 0.534214 | val_acc 78.46%\n",
      "Epoch 02\n",
      "tr_loss 0.565489 | tr_acc 73.12%\n",
      "val_loss 0.541827 | val_acc 72.78%\n",
      "Epoch 03\n",
      "tr_loss 0.518462 | tr_acc 75.90%\n",
      "val_loss 0.539904 | val_acc 74.92%\n",
      "Epoch 04\n",
      "tr_loss 0.512484 | tr_acc 76.33%\n",
      "val_loss 0.498259 | val_acc 77.06%\n",
      "Epoch 05\n",
      "tr_loss 0.495490 | tr_acc 78.10%\n",
      "val_loss 0.483247 | val_acc 78.67%\n",
      "Epoch 06\n",
      "tr_loss 0.474987 | tr_acc 78.69%\n",
      "val_loss 0.527342 | val_acc 79.21%\n",
      "Epoch 07\n",
      "tr_loss 0.484572 | tr_acc 78.05%\n",
      "val_loss 0.464461 | val_acc 80.49%\n",
      "Epoch 08\n",
      "tr_loss 0.468512 | tr_acc 80.11%\n",
      "val_loss 0.461572 | val_acc 81.78%\n",
      "Epoch 09\n",
      "tr_loss 0.459016 | tr_acc 79.98%\n",
      "val_loss 0.464334 | val_acc 81.14%\n",
      "Epoch 10\n",
      "tr_loss 0.466292 | tr_acc 79.42%\n",
      "val_loss 0.502500 | val_acc 78.56%\n"
     ]
    }
   ],
   "source": [
    "train(CNN(100), 10, 10)"
   ]
  },
  {
   "cell_type": "code",
   "execution_count": 12,
   "metadata": {},
   "outputs": [],
   "source": [
    "rnn = RNN(10)"
   ]
  },
  {
   "cell_type": "code",
   "execution_count": 18,
   "metadata": {},
   "outputs": [
    {
     "data": {
      "text/plain": [
       "'RNN'"
      ]
     },
     "execution_count": 18,
     "metadata": {},
     "output_type": "execute_result"
    }
   ],
   "source": [
    "rnn.__class__.__name__"
   ]
  },
  {
   "cell_type": "code",
   "execution_count": 58,
   "metadata": {},
   "outputs": [],
   "source": [
    "class RCN(torch.nn.Module):\n",
    "\n",
    "    def __init__(self, input_size, step_size, hidden_size=64):\n",
    "        super(RCN, self).__init__()\n",
    "        self.hidden_size = hidden_size\n",
    "        self.step_size = step_size\n",
    "        self.rnn = nn.GRU(step_size, hidden_size, batch_first=True, bidirectional=True, dropout=0.5)\n",
    "        self.conv1 = nn.Conv1d(1, 8, 3, padding=1)\n",
    "        self.conv2 = nn.Conv1d(8, 16, 3, padding=1)\n",
    "        self.fc_dim = input_size // 4 * 16 + hidden_size * 2\n",
    "        self.fc = nn.Linear(self.fc_dim, 1)\n",
    "\n",
    "    def forward(self, x):\n",
    "        rx = x.view(x.size(0), -1, self.step_size)\n",
    "        cx = x.view(x.size(0), 1, -1)\n",
    "        h0 = self._init_hidden_state(rx.size(0))\n",
    "        rx, hn = self.rnn(rx, h0)\n",
    "        cx = F.relu(F.max_pool1d(self.conv1(cx), 2))\n",
    "        cx = F.relu(F.max_pool1d(self.conv2(cx), 2))\n",
    "        rcx = torch.cat((rx[:, -1, :].view(x.size(0), -1), cx.view(x.size(0), -1)), dim=1)\n",
    "        out = self.fc(F.dropout(rcx, training=self.training))\n",
    "        return F.sigmoid(out)\n",
    "\n",
    "    def _init_hidden_state(self, batch_size):\n",
    "        h0 = torch.zeros(2, batch_size, self.hidden_size)\n",
    "        if use_gpu:\n",
    "            h0 = h0.cuda()\n",
    "        return Variable(h0)"
   ]
  },
  {
   "cell_type": "code",
   "execution_count": 59,
   "metadata": {},
   "outputs": [
    {
     "name": "stdout",
     "output_type": "stream",
     "text": [
      "Epoch 01\n",
      "tr_loss 1.565200 | tr_acc 66.87%\n",
      "val_loss 0.732278 | val_acc 57.66%\n",
      "Epoch 02\n",
      "tr_loss 0.508685 | tr_acc 77.03%\n",
      "val_loss 0.535610 | val_acc 74.06%\n",
      "Epoch 03\n",
      "tr_loss 0.455223 | tr_acc 79.84%\n",
      "val_loss 0.530129 | val_acc 76.31%\n",
      "Epoch 04\n",
      "tr_loss 0.433536 | tr_acc 81.53%\n",
      "val_loss 0.458880 | val_acc 81.46%\n",
      "Epoch 05\n",
      "tr_loss 0.418026 | tr_acc 83.14%\n",
      "val_loss 0.451677 | val_acc 80.81%\n",
      "Epoch 06\n",
      "tr_loss 0.407422 | tr_acc 82.87%\n",
      "val_loss 0.446012 | val_acc 82.10%\n",
      "Epoch 07\n",
      "tr_loss 0.386277 | tr_acc 83.60%\n",
      "val_loss 0.461455 | val_acc 81.89%\n",
      "Epoch 08\n",
      "tr_loss 0.377711 | tr_acc 84.43%\n",
      "val_loss 0.462122 | val_acc 82.21%\n",
      "Epoch 09\n",
      "tr_loss 0.352311 | tr_acc 85.31%\n",
      "val_loss 0.461295 | val_acc 81.56%\n",
      "Epoch 10\n",
      "tr_loss 0.338566 | tr_acc 85.90%\n",
      "val_loss 0.484886 | val_acc 82.10%\n",
      "Epoch 11\n",
      "tr_loss 0.320860 | tr_acc 86.60%\n",
      "val_loss 0.484532 | val_acc 81.67%\n",
      "Epoch 12\n",
      "tr_loss 0.302745 | tr_acc 87.40%\n",
      "val_loss 0.509570 | val_acc 80.28%\n",
      "Epoch 13\n",
      "tr_loss 0.295603 | tr_acc 87.72%\n",
      "val_loss 0.529323 | val_acc 79.85%\n",
      "Epoch 14\n",
      "tr_loss 0.272923 | tr_acc 89.25%\n",
      "val_loss 0.512971 | val_acc 81.46%\n",
      "Epoch 15\n",
      "tr_loss 0.239018 | tr_acc 90.40%\n",
      "val_loss 0.567527 | val_acc 79.85%\n",
      "Epoch 16\n",
      "tr_loss 0.225438 | tr_acc 90.94%\n",
      "val_loss 0.575812 | val_acc 81.24%\n",
      "Epoch 17\n",
      "tr_loss 0.219595 | tr_acc 91.53%\n",
      "val_loss 0.696842 | val_acc 78.99%\n",
      "Epoch 18\n",
      "tr_loss 0.219790 | tr_acc 91.69%\n",
      "val_loss 0.608407 | val_acc 81.35%\n",
      "Epoch 19\n",
      "tr_loss 0.192265 | tr_acc 92.71%\n",
      "val_loss 0.654077 | val_acc 80.71%\n",
      "Epoch 20\n",
      "tr_loss 0.162188 | tr_acc 93.92%\n",
      "val_loss 0.672617 | val_acc 81.03%\n"
     ]
    }
   ],
   "source": [
    "train(RCN(100, 10))"
   ]
  },
  {
   "cell_type": "code",
   "execution_count": null,
   "metadata": {},
   "outputs": [],
   "source": []
  }
 ],
 "metadata": {
  "kernelspec": {
   "display_name": "Python 3",
   "language": "python",
   "name": "python3"
  },
  "language_info": {
   "codemirror_mode": {
    "name": "ipython",
    "version": 3
   },
   "file_extension": ".py",
   "mimetype": "text/x-python",
   "name": "python",
   "nbconvert_exporter": "python",
   "pygments_lexer": "ipython3",
   "version": "3.6.4"
  }
 },
 "nbformat": 4,
 "nbformat_minor": 2
}
