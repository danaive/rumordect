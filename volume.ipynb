{
 "cells": [
  {
   "cell_type": "code",
   "execution_count": 1,
   "metadata": {},
   "outputs": [],
   "source": [
    "import json\n",
    "from glob import glob\n",
    "\n",
    "import numpy as np\n",
    "import torch\n",
    "import torch.nn as nn\n",
    "import torch.nn.functional as F\n",
    "import torch.optim as optim\n",
    "from sklearn.model_selection import train_test_split\n",
    "from torch.autograd import Variable\n",
    "from torch.utils.data import DataLoader, Dataset\n",
    "import matplotlib.pyplot as plt\n",
    "\n",
    "use_cuda = torch.cuda.is_available()\n",
    "\n",
    "\n",
    "class DSet(Dataset):\n",
    "\n",
    "    def __init__(self, samples, step=100):\n",
    "        self.data = np.zeros((len(samples), step), dtype=np.float32)\n",
    "        self.target = np.zeros(len(samples), dtype=np.float32)\n",
    "        raw_data = np.load('data/prop_graph.npz')\n",
    "        for i, sample in enumerate(samples):\n",
    "            span = raw_data[sample][:, 0]\n",
    "            volumn = np.log10(span + 1) / 8.1 * step\n",
    "            for item in volumn.astype(int):\n",
    "                self.data[i][item] += 1\n",
    "            if 'rumor' in sample:\n",
    "                self.target[i] = 1\n",
    "\n",
    "    def __len__(self):\n",
    "        return self.data.shape[0]\n",
    "\n",
    "    def __getitem__(self, idx):\n",
    "        return self.data[idx], self.target[idx]\n",
    "\n",
    "\n",
    "class CNN(nn.Module):\n",
    "\n",
    "    def __init__(self, input_size):\n",
    "        super(CNN, self).__init__()\n",
    "        self.conv1 = nn.Conv1d(1, 8, 3, padding=1)\n",
    "        self.conv2 = nn.Conv1d(8, 16, 3, padding=1)\n",
    "        self.fc1 = nn.Linear(input_size // 4 * 16, 64)\n",
    "        self.fc2 = nn.Linear(64, 1)\n",
    "\n",
    "    def forward(self, x):\n",
    "        x = x.view(x.size(0), 1, -1)\n",
    "        x = F.relu(F.max_pool1d(self.conv1(x), 2))\n",
    "        x = F.relu(F.max_pool1d(self.conv2(x), 2))\n",
    "        x = F.dropout(x.view(x.size(0), -1), training=self.training)\n",
    "        x = F.relu(self.fc1(x))\n",
    "        x = self.fc2(x)\n",
    "        return F.sigmoid(x)\n",
    "\n",
    "\n",
    "class RNN(nn.Module):\n",
    "\n",
    "    def __init__(self, input_size, hidden_size=64, bidirectional=True):\n",
    "        super(RNN, self).__init__()\n",
    "        self.input_size = input_size\n",
    "        self.hidden_size = hidden_size\n",
    "        self.n_directions = 2 if bidirectional else 1\n",
    "        self.rnn = nn.GRU(input_size, hidden_size, batch_first=True, bidirectional=bidirectional)\n",
    "        self.fc = nn.Linear(hidden_size * self.n_directions, 1)\n",
    "\n",
    "    def forward(self, x):\n",
    "        x = x.view(x.size(0), -1, self.input_size)\n",
    "        h0 = self._init_hidden_state(x.size(0))\n",
    "        x, hn = self.rnn(x, h0)\n",
    "        x = self.fc(x[:, -1, :])\n",
    "        return F.sigmoid(x)\n",
    "\n",
    "    def _init_hidden_state(self, batch_size):\n",
    "        h0 = torch.zeros(self.n_directions, batch_size, self.hidden_size)\n",
    "        if use_cuda:\n",
    "            h0 = h0.cuda()\n",
    "        return Variable(h0)\n",
    "\n",
    "\n",
    "class CombinedNet(nn.Module):\n",
    "\n",
    "    def __init__(self, cnn_input_size, rnn_input_size, hidden_size=64):\n",
    "        super(CombinedNet, self).__init__()\n",
    "        self.hidden_size = hidden_size\n",
    "        self.rnn_input_size = rnn_input_size\n",
    "        self.rnn = nn.GRU(rnn_input_size, hidden_size, batch_first=True, bidirectional=True, dropout=0.5)\n",
    "        self.conv1 = nn.Conv1d(1, 8, 3, padding=1)\n",
    "        self.conv2 = nn.Conv1d(8, 16, 3, padding=1)\n",
    "        self.fc_dim = cnn_input_size // 4 * 16 + hidden_size * 2\n",
    "        self.fc = nn.Linear(self.fc_dim, 1)\n",
    "\n",
    "    def forward(self, x):\n",
    "        rx = x.view(x.size(0), -1, self.rnn_input_size)\n",
    "        cx = x.view(x.size(0), 1, -1)\n",
    "        h0 = self._init_hidden_state(rx.size(0))\n",
    "        rx, hn = self.rnn(rx, h0)\n",
    "        cx = F.relu(F.max_pool1d(self.conv1(cx), 2))\n",
    "        cx = F.relu(F.max_pool1d(self.conv2(cx), 2))\n",
    "        rcx = torch.cat((rx[:, -1, :].view(x.size(0), -1), cx.view(x.size(0), -1)), dim=1)\n",
    "        out = self.fc(F.dropout(rcx, training=self.training))\n",
    "        return F.sigmoid(out)\n",
    "\n",
    "    def _init_hidden_state(self, batch_size):\n",
    "        h0 = torch.zeros(2, batch_size, self.hidden_size)\n",
    "        if use_cuda:\n",
    "            h0 = h0.cuda()\n",
    "        return Variable(h0)"
   ]
  },
  {
   "cell_type": "code",
   "execution_count": 41,
   "metadata": {},
   "outputs": [],
   "source": [
    "def train(model, n_epoch=10, lr=0.05):\n",
    "\n",
    "    if use_cuda:\n",
    "        model.cuda()\n",
    "    criterion = nn.BCELoss()\n",
    "    optimizer = optim.RMSprop(model.parameters())\n",
    "#     optimizer = optim.SGD(model.parameters(), lr=lr)\n",
    "\n",
    "    print(f'training {model.__class__.__name__} ...')\n",
    "    acc_max = 0.0\n",
    "    record = {x: list() for x in ['tr_loss', 'tr_acc', 'val_loss', 'val_acc', 'predict']}\n",
    "    for epoch in range(n_epoch):\n",
    "#         print(f'Epoch {(epoch + 1):02d}')\n",
    "        model.train()\n",
    "        tr_loss, tr_acc = 0.0, 0.0\n",
    "        for data, target in train_loader:\n",
    "            target = target.view(target.size(0), 1)\n",
    "            optimizer.zero_grad()\n",
    "            if use_cuda:\n",
    "                data, target = data.cuda(), target.cuda()\n",
    "            data, target = Variable(data), Variable(target)\n",
    "            output = model(data)\n",
    "            loss = criterion(output, target)\n",
    "            loss.backward()\n",
    "            optimizer.step()\n",
    "            tr_loss += loss.data[0] * data.size(0)\n",
    "            pred = torch.sign(output.data - 0.5).clamp(min=0)\n",
    "            tr_acc += pred.eq(target.data).cpu().sum()\n",
    "        tr_loss /= len(train_loader.dataset)\n",
    "        tr_acc = tr_acc / len(train_loader.dataset)\n",
    "        record['tr_loss'].append(tr_loss)\n",
    "        record['tr_acc'].append(tr_acc)\n",
    "#         print(f'tr_loss {tr_loss:.6f} | tr_acc {tr_acc*100:.2f}%')\n",
    "\n",
    "        model.eval()\n",
    "        val_loss, val_acc = 0.0, 0.0\n",
    "        record['predict'] = []\n",
    "        for data, target in test_loader:\n",
    "            target = target.view(target.size(0), 1)\n",
    "            if use_cuda:\n",
    "                data, target = data.cuda(), target.cuda()\n",
    "            data, target = Variable(data, volatile=True), Variable(target)\n",
    "            output = model(data)\n",
    "            loss = criterion(output, target)\n",
    "            val_loss += loss.data[0] * data.size(0)\n",
    "            pred = torch.sign(output.data - 0.5).clamp(min=0)\n",
    "            val_acc += pred.eq(target.data).cpu().sum()\n",
    "            record['predict'].append(output.data.numpy())\n",
    "        val_loss /= len(test_loader.dataset)\n",
    "        val_acc = val_acc / len(test_loader.dataset)\n",
    "        record['val_loss'].append(val_loss)\n",
    "        record['val_acc'].append(val_acc)\n",
    "#         print(f'val_loss {val_loss:.6f} | val_acc {val_acc*100:.2f}%')\n",
    "        if record['val_acc'][-1] > acc_max:\n",
    "            acc_max = record['val_acc'][-1]\n",
    "            record['final'] = np.vstack(record['predict']).reshape(-1)\n",
    "    return record"
   ]
  },
  {
   "cell_type": "code",
   "execution_count": 35,
   "metadata": {},
   "outputs": [],
   "source": [
    "def loss_curve(rec, name, ep=100):\n",
    "    \n",
    "    plt.figure(figsize=(10, 5))\n",
    "    lw = 2\n",
    "    plt.xlim([1, ep])\n",
    "    plt.ylim([0.0, 1.2])\n",
    "#     plt.xlabel('Epoches')\n",
    "#     plt.ylabel('Binary Cross Entropy Loss')\n",
    "    plt.plot(range(1, 101), rec['tr_loss'], 'b--', label='Training Loss')\n",
    "    plt.plot(range(1, 101), rec['val_loss'], 'r-', label='Validation Loss')\n",
    "#     plt.legend(loc='upper right')\n",
    "    plt.savefig(f'{name}.png', dpi=200)"
   ]
  },
  {
   "cell_type": "code",
   "execution_count": 3,
   "metadata": {},
   "outputs": [],
   "source": [
    "samples = glob('rumor/*.json') + glob('truth/*.json')\n",
    "train_data, test_data = train_test_split(samples, test_size=0.2, random_state=42)\n",
    "kwargs = {'num_workers': 1, 'pin_memory': True} if use_cuda else {}\n",
    "train_loader = DataLoader(DSet(train_data), batch_size=128, shuffle=True, **kwargs)\n",
    "test_loader = DataLoader(DSet(test_data), batch_size=128, **kwargs)"
   ]
  },
  {
   "cell_type": "code",
   "execution_count": 4,
   "metadata": {},
   "outputs": [],
   "source": [
    "target = []\n",
    "for x, y in test_loader:\n",
    "    target.append(y.numpy())"
   ]
  },
  {
   "cell_type": "code",
   "execution_count": 5,
   "metadata": {},
   "outputs": [],
   "source": [
    "def census(output, target):\n",
    "\n",
    "    from sklearn.metrics import roc_curve, roc_auc_score, precision_score, recall_score, f1_score, accuracy_score\n",
    "\n",
    "    fpr, tpr, _ = roc_curve(target, output)\n",
    "    auc = roc_auc_score(target, output)\n",
    "    output[output < 0.5] = 0\n",
    "    output[output > 0.4] = 1\n",
    "    rp = precision_score(target, output, pos_label=1)\n",
    "    rr = recall_score(target, output, pos_label=1)\n",
    "    rf = f1_score(target, output, pos_label=1)\n",
    "    np = precision_score(target, output, pos_label=0)\n",
    "    nr = recall_score(target, output, pos_label=0)\n",
    "    nf = f1_score(target, output, pos_label=0)\n",
    "    acc = accuracy_score(target, output)\n",
    "    print(f'acc: {acc:.3f}\\nrp: {rp:.3f}\\nrr: {rr:.3f}\\nrf: {rf:.3f}')\n",
    "    print(f'np: {np:.3f}\\nnr: {nr:.3f}\\nnf: {nf:.3f}')\n",
    "    return {'fpr': fpr, 'tpr': tpr, 'auc': auc}"
   ]
  },
  {
   "cell_type": "code",
   "execution_count": 28,
   "metadata": {},
   "outputs": [
    {
     "data": {
      "image/png": "[encoded data removed]",
      "text/plain": [
       "<Figure size 720x360 with 1 Axes>"
      ]
     },
     "metadata": {},
     "output_type": "display_data"
    }
   ],
   "source": [
    "loss_curve(rec, 'cnn-volume')"
   ]
  },
  {
   "cell_type": "code",
   "execution_count": 42,
   "metadata": {},
   "outputs": [
    {
     "name": "stdout",
     "output_type": "stream",
     "text": [
      "training RNN ...\n",
      "Epoch 01\n",
      "tr_loss 0.696824 | tr_acc 61.75%\n",
      "val_loss 0.531483 | val_acc 75.03%\n",
      "Epoch 02\n",
      "tr_loss 0.448894 | tr_acc 80.51%\n",
      "val_loss 0.485951 | val_acc 76.53%\n",
      "Epoch 03\n",
      "tr_loss 0.433233 | tr_acc 80.76%\n",
      "val_loss 0.456503 | val_acc 79.74%\n",
      "Epoch 04\n",
      "tr_loss 0.407065 | tr_acc 82.39%\n",
      "val_loss 0.469538 | val_acc 77.81%\n",
      "Epoch 05\n",
      "tr_loss 0.397627 | tr_acc 83.01%\n",
      "val_loss 0.510147 | val_acc 79.74%\n",
      "Epoch 06\n",
      "tr_loss 0.376321 | tr_acc 83.57%\n",
      "val_loss 0.494470 | val_acc 78.78%\n",
      "Epoch 07\n",
      "tr_loss 0.369693 | tr_acc 84.35%\n",
      "val_loss 0.642485 | val_acc 74.38%\n",
      "Epoch 08\n",
      "tr_loss 0.351896 | tr_acc 84.72%\n",
      "val_loss 0.478427 | val_acc 80.71%\n",
      "Epoch 09\n",
      "tr_loss 0.335007 | tr_acc 85.34%\n",
      "val_loss 0.475093 | val_acc 79.21%\n",
      "Epoch 10\n",
      "tr_loss 0.303150 | tr_acc 87.32%\n",
      "val_loss 0.550149 | val_acc 79.96%\n"
     ]
    }
   ],
   "source": [
    "rnnv = train(RNN(10))"
   ]
  },
  {
   "cell_type": "code",
   "execution_count": 37,
   "metadata": {},
   "outputs": [
    {
     "data": {
      "image/png": "[encoded data removed]",
      "text/plain": [
       "<Figure size 720x360 with 1 Axes>"
      ]
     },
     "metadata": {},
     "output_type": "display_data"
    }
   ],
   "source": [
    "loss_curve(rnnv, 'rnn-volume')"
   ]
  },
  {
   "cell_type": "code",
   "execution_count": 32,
   "metadata": {},
   "outputs": [
    {
     "name": "stdout",
     "output_type": "stream",
     "text": [
      "training CNN ...\n"
     ]
    }
   ],
   "source": [
    "cnnv = train(CNN(100))"
   ]
  },
  {
   "cell_type": "code",
   "execution_count": 39,
   "metadata": {},
   "outputs": [
    {
     "data": {
      "image/png": "[encoded data removed]",
      "text/plain": [
       "<Figure size 720x360 with 1 Axes>"
      ]
     },
     "metadata": {},
     "output_type": "display_data"
    }
   ],
   "source": [
    "loss_curve(cnnv, 'cnn-volume')"
   ]
  },
  {
   "cell_type": "code",
   "execution_count": 9,
   "metadata": {},
   "outputs": [
    {
     "name": "stdout",
     "output_type": "stream",
     "text": [
      "acc: 0.806\n",
      "rp: 0.827\n",
      "rr: 0.784\n",
      "rf: 0.805\n",
      "np: 0.786\n",
      "nr: 0.829\n",
      "nf: 0.807\n"
     ]
    }
   ],
   "source": [
    "cnndic = census(cnnv['final'], np.hstack(target).astype(int))"
   ]
  },
  {
   "cell_type": "code",
   "execution_count": 10,
   "metadata": {},
   "outputs": [
    {
     "name": "stdout",
     "output_type": "stream",
     "text": [
      "acc: 0.779\n",
      "rp: 0.800\n",
      "rr: 0.757\n",
      "rf: 0.778\n",
      "np: 0.759\n",
      "nr: 0.803\n",
      "nf: 0.780\n"
     ]
    }
   ],
   "source": [
    "rnndic = census(rnnv['final'], np.hstack(target).astype(int))"
   ]
  },
  {
   "cell_type": "code",
   "execution_count": 11,
   "metadata": {},
   "outputs": [],
   "source": [
    "np.savez('data/rnnv.npz', **rnndic)\n",
    "np.savez('data/cnnv.npz', **cnndic)"
   ]
  },
  {
   "cell_type": "code",
   "execution_count": 17,
   "metadata": {},
   "outputs": [],
   "source": [
    "rnnv = rnndic\n",
    "cnnv = cnndic\n",
    "rnnt, cnnt = {}, {}\n",
    "tmpc = np.load('data/rnnt.npz')\n",
    "tmpr = np.load('data/cnnt.npz')\n",
    "for item in ['tpr', 'fpr', 'auc']:\n",
    "    rnnt[item] = tmpr[item]\n",
    "    cnnt[item] = tmpc[item]"
   ]
  },
  {
   "cell_type": "code",
   "execution_count": 18,
   "metadata": {},
   "outputs": [],
   "source": [
    "rnnv['name'] = 'rnnv'\n",
    "cnnv['name'] = 'cnnv'\n",
    "rnnt['name'] = 'rnnt'\n",
    "cnnt['name'] = 'cnnt'"
   ]
  },
  {
   "cell_type": "code",
   "execution_count": 29,
   "metadata": {},
   "outputs": [],
   "source": [
    "def draw_roc(rec):\n",
    "    mark = ['y-', 'g-', 'r-', 'c-']\n",
    "    plt.figure(figsize=(10,10))\n",
    "    plt.plot([0, 1], [0, 1], color='blue', linestyle='--')\n",
    "    plt.xlim([0.0, 1.0])\n",
    "    plt.ylim([0.0, 1.05])\n",
    "#     plt.xlabel('False Positive Rate')\n",
    "#     plt.ylabel('True Positive Rate')\n",
    "    for item, mk in zip(rec, mark):\n",
    "#         nn = census(item['final'], np.hstack(target).astype(int))\n",
    "        plt.plot(item['fpr'], item['tpr'], mk, lw=2)\n",
    "        print(item['name'], item['auc'], mk)\n",
    "#     plt.legend(loc=\"lower right\")\n",
    "    plt.savefig('roc-single.png', dpi=200)"
   ]
  },
  {
   "cell_type": "code",
   "execution_count": 30,
   "metadata": {},
   "outputs": [
    {
     "name": "stdout",
     "output_type": "stream",
     "text": [
      "rnnv 0.8375721799257052 y-\n",
      "cnnv 0.8687359777851337 g-\n",
      "rnnt 0.9308635845378647 r-\n",
      "cnnt 0.9268546103203501 c-\n"
     ]
    },
    {
     "data": {
      "image/png": "[encoded data removed]",
      "text/plain": [
       "<Figure size 720x720 with 1 Axes>"
      ]
     },
     "metadata": {},
     "output_type": "display_data"
    }
   ],
   "source": [
    "draw_roc([rnnv, cnnv, rnnt, cnnt])"
   ]
  },
  {
   "cell_type": "code",
   "execution_count": 33,
   "metadata": {},
   "outputs": [
    {
     "data": {
      "text/plain": [
       "6"
      ]
     },
     "execution_count": 33,
     "metadata": {},
     "output_type": "execute_result"
    }
   ],
   "source": [
    "len(rnnv)"
   ]
  },
  {
   "cell_type": "code",
   "execution_count": 34,
   "metadata": {},
   "outputs": [],
   "source": [
    "dic = {'rnnv': rnnv['final'], 'cnnv': cnnv['final']}\n",
    "np.savez('data/pred.npz', **dic)"
   ]
  },
  {
   "cell_type": "code",
   "execution_count": 35,
   "metadata": {},
   "outputs": [],
   "source": [
    "from sklearn.model_selection import KFold"
   ]
  },
  {
   "cell_type": "code",
   "execution_count": 39,
   "metadata": {},
   "outputs": [],
   "source": [
    "kf = KFold(n_splits=5, random_state=42)\n",
    "train_data = np.array(train_data)"
   ]
  },
  {
   "cell_type": "code",
   "execution_count": 48,
   "metadata": {},
   "outputs": [],
   "source": [
    "class DSet_(Dataset):\n",
    "\n",
    "    def __init__(self, samples, step=100):\n",
    "        self.data = np.zeros((len(samples), step), dtype=np.float32)\n",
    "        self.target = np.zeros(len(samples), dtype=np.float32)\n",
    "        raw_data = np.load('data/prop_graph.npz')\n",
    "        for i, sample in enumerate(samples):\n",
    "            span = raw_data[sample][:, 0]\n",
    "            volumn = np.log10(span + 1) / 8.1 * step\n",
    "            for item in volumn.astype(int):\n",
    "                self.data[i][item] += 1\n",
    "            if 'rumor' in sample:\n",
    "                self.target[i] = 1\n",
    "    \n",
    "    def get_tensor(self):\n",
    "        return torch.from_numpy(self.data)\n",
    "\n",
    "    def __len__(self):\n",
    "        return self.data.shape[0]\n",
    "\n",
    "    def __getitem__(self, idx):\n",
    "        return self.data[idx], self.target[idx]"
   ]
  },
  {
   "cell_type": "code",
   "execution_count": 53,
   "metadata": {},
   "outputs": [
    {
     "name": "stdout",
     "output_type": "stream",
     "text": [
      "training RNN ...\n",
      "Epoch 01\n",
      "tr_loss 0.725629 | tr_acc 57.84%\n",
      "val_loss 0.632620 | val_acc 63.56%\n",
      "Epoch 02\n",
      "tr_loss 0.511998 | tr_acc 76.88%\n",
      "val_loss 0.499620 | val_acc 77.92%\n",
      "Epoch 03\n",
      "tr_loss 0.444734 | tr_acc 80.80%\n",
      "val_loss 0.522580 | val_acc 77.38%\n",
      "Epoch 04\n",
      "tr_loss 0.432332 | tr_acc 81.27%\n",
      "val_loss 0.466868 | val_acc 78.99%\n",
      "Epoch 05\n",
      "tr_loss 0.408658 | tr_acc 82.94%\n",
      "val_loss 0.454398 | val_acc 79.21%\n",
      "training RNN ...\n",
      "Epoch 01\n",
      "tr_loss 0.737987 | tr_acc 58.09%\n",
      "val_loss 0.565295 | val_acc 75.03%\n",
      "Epoch 02\n",
      "tr_loss 0.481721 | tr_acc 78.99%\n",
      "val_loss 0.511271 | val_acc 77.28%\n",
      "Epoch 03\n",
      "tr_loss 0.447844 | tr_acc 80.47%\n",
      "val_loss 0.485560 | val_acc 78.24%\n",
      "Epoch 04\n",
      "tr_loss 0.408611 | tr_acc 82.41%\n",
      "val_loss 0.580781 | val_acc 71.70%\n",
      "Epoch 05\n",
      "tr_loss 0.400953 | tr_acc 83.22%\n",
      "val_loss 0.469805 | val_acc 78.99%\n",
      "training RNN ...\n",
      "Epoch 01\n",
      "tr_loss 0.746944 | tr_acc 61.24%\n",
      "val_loss 0.488491 | val_acc 79.21%\n",
      "Epoch 02\n",
      "tr_loss 0.477607 | tr_acc 79.80%\n",
      "val_loss 0.466322 | val_acc 79.42%\n",
      "Epoch 03\n",
      "tr_loss 0.435310 | tr_acc 81.41%\n",
      "val_loss 0.514408 | val_acc 76.53%\n",
      "Epoch 04\n",
      "tr_loss 0.417349 | tr_acc 82.08%\n",
      "val_loss 0.465977 | val_acc 79.96%\n",
      "Epoch 05\n",
      "tr_loss 0.400794 | tr_acc 82.68%\n",
      "val_loss 0.461607 | val_acc 80.60%\n",
      "training RNN ...\n",
      "Epoch 01\n",
      "tr_loss 0.736508 | tr_acc 59.60%\n",
      "val_loss 0.488628 | val_acc 77.49%\n",
      "Epoch 02\n",
      "tr_loss 0.457736 | tr_acc 80.87%\n",
      "val_loss 0.470025 | val_acc 79.74%\n",
      "Epoch 03\n",
      "tr_loss 0.432120 | tr_acc 81.98%\n",
      "val_loss 0.454029 | val_acc 79.85%\n",
      "Epoch 04\n",
      "tr_loss 0.412200 | tr_acc 82.98%\n",
      "val_loss 0.467577 | val_acc 79.85%\n",
      "Epoch 05\n",
      "tr_loss 0.392605 | tr_acc 84.02%\n",
      "val_loss 0.456626 | val_acc 79.31%\n",
      "training RNN ...\n",
      "Epoch 01\n",
      "tr_loss 0.699671 | tr_acc 60.80%\n",
      "val_loss 0.526904 | val_acc 75.67%\n",
      "Epoch 02\n",
      "tr_loss 0.482200 | tr_acc 78.56%\n",
      "val_loss 0.471274 | val_acc 79.31%\n",
      "Epoch 03\n",
      "tr_loss 0.438628 | tr_acc 81.14%\n",
      "val_loss 0.459696 | val_acc 81.03%\n",
      "Epoch 04\n",
      "tr_loss 0.411655 | tr_acc 82.91%\n",
      "val_loss 0.599548 | val_acc 71.81%\n",
      "Epoch 05\n",
      "tr_loss 0.417359 | tr_acc 81.84%\n",
      "val_loss 0.459628 | val_acc 80.06%\n"
     ]
    }
   ],
   "source": [
    "rnnv_stk = np.empty((len(train_data)))\n",
    "rnnv_rec = []\n",
    "for x, y in kf.split(train_data):\n",
    "    train_loader = DataLoader(DSet(train_data[x]), batch_size=128, shuffle=True)\n",
    "    val_data = DSet_(train_data[y]).get_tensor()\n",
    "    model = RNN(10)\n",
    "    rnnv_rec.append(train(model, n_epoch=5)['final'])\n",
    "    rnnv_stk[y] = model(Variable(val_data, volatile=True)).data.numpy().reshape(-1)\n",
    "rnnv_rec = np.mean(rnnv_rec, axis=0)"
   ]
  },
  {
   "cell_type": "code",
   "execution_count": 55,
   "metadata": {},
   "outputs": [
    {
     "name": "stdout",
     "output_type": "stream",
     "text": [
      "training CNN ...\n",
      "Epoch 01\n",
      "tr_loss 1.975338 | tr_acc 63.91%\n",
      "val_loss 0.615067 | val_acc 72.99%\n",
      "Epoch 02\n",
      "tr_loss 0.614536 | tr_acc 72.99%\n",
      "val_loss 0.585100 | val_acc 68.49%\n",
      "Epoch 03\n",
      "tr_loss 0.560223 | tr_acc 75.13%\n",
      "val_loss 0.508879 | val_acc 77.28%\n",
      "Epoch 04\n",
      "tr_loss 0.524926 | tr_acc 76.41%\n",
      "val_loss 0.597008 | val_acc 72.67%\n",
      "Epoch 05\n",
      "tr_loss 0.510724 | tr_acc 77.51%\n",
      "val_loss 0.490379 | val_acc 78.89%\n",
      "Epoch 06\n",
      "tr_loss 0.505668 | tr_acc 77.75%\n",
      "val_loss 0.508085 | val_acc 78.24%\n",
      "Epoch 07\n",
      "tr_loss 0.494293 | tr_acc 79.22%\n",
      "val_loss 0.521495 | val_acc 77.92%\n",
      "Epoch 08\n",
      "tr_loss 0.479658 | tr_acc 79.26%\n",
      "val_loss 0.500217 | val_acc 80.06%\n",
      "Epoch 09\n",
      "tr_loss 0.476616 | tr_acc 78.82%\n",
      "val_loss 0.496889 | val_acc 78.46%\n",
      "Epoch 10\n",
      "tr_loss 0.475590 | tr_acc 79.22%\n",
      "val_loss 0.508904 | val_acc 79.85%\n",
      "training CNN ...\n",
      "Epoch 01\n",
      "tr_loss 1.297943 | tr_acc 53.77%\n",
      "val_loss 0.678568 | val_acc 55.41%\n",
      "Epoch 02\n",
      "tr_loss 0.660175 | tr_acc 62.81%\n",
      "val_loss 0.605088 | val_acc 72.78%\n",
      "Epoch 03\n",
      "tr_loss 0.574351 | tr_acc 73.90%\n",
      "val_loss 0.572380 | val_acc 70.31%\n",
      "Epoch 04\n",
      "tr_loss 0.533751 | tr_acc 75.95%\n",
      "val_loss 0.545081 | val_acc 75.88%\n",
      "Epoch 05\n",
      "tr_loss 0.517165 | tr_acc 76.78%\n",
      "val_loss 0.501911 | val_acc 76.63%\n",
      "Epoch 06\n",
      "tr_loss 0.493291 | tr_acc 78.02%\n",
      "val_loss 0.482628 | val_acc 78.14%\n",
      "Epoch 07\n",
      "tr_loss 0.493814 | tr_acc 77.96%\n",
      "val_loss 0.485687 | val_acc 77.60%\n",
      "Epoch 08\n",
      "tr_loss 0.469733 | tr_acc 79.46%\n",
      "val_loss 0.472114 | val_acc 79.85%\n",
      "Epoch 09\n",
      "tr_loss 0.479685 | tr_acc 78.89%\n",
      "val_loss 0.472003 | val_acc 78.24%\n",
      "Epoch 10\n",
      "tr_loss 0.485571 | tr_acc 79.46%\n",
      "val_loss 0.472013 | val_acc 79.21%\n",
      "training CNN ...\n",
      "Epoch 01\n",
      "tr_loss 1.500004 | tr_acc 51.79%\n",
      "val_loss 0.693417 | val_acc 51.88%\n",
      "Epoch 02\n",
      "tr_loss 0.693849 | tr_acc 52.50%\n",
      "val_loss 0.696057 | val_acc 48.87%\n",
      "Epoch 03\n",
      "tr_loss 0.693145 | tr_acc 51.26%\n",
      "val_loss 0.694443 | val_acc 48.87%\n",
      "Epoch 04\n",
      "tr_loss 0.693163 | tr_acc 51.26%\n",
      "val_loss 0.694808 | val_acc 48.87%\n",
      "Epoch 05\n",
      "tr_loss 0.693280 | tr_acc 50.05%\n",
      "val_loss 0.693940 | val_acc 48.87%\n",
      "Epoch 06\n",
      "tr_loss 0.693056 | tr_acc 50.32%\n",
      "val_loss 0.694723 | val_acc 48.87%\n",
      "Epoch 07\n",
      "tr_loss 0.693080 | tr_acc 51.26%\n",
      "val_loss 0.694480 | val_acc 48.87%\n",
      "Epoch 08\n",
      "tr_loss 0.693054 | tr_acc 51.26%\n",
      "val_loss 0.694839 | val_acc 48.87%\n",
      "Epoch 09\n",
      "tr_loss 0.693060 | tr_acc 51.26%\n",
      "val_loss 0.693828 | val_acc 48.87%\n",
      "Epoch 10\n",
      "tr_loss 0.693181 | tr_acc 50.45%\n",
      "val_loss 0.694217 | val_acc 48.87%\n",
      "training CNN ...\n",
      "Epoch 01\n",
      "tr_loss 1.664208 | tr_acc 55.51%\n",
      "val_loss 0.672340 | val_acc 66.99%\n",
      "Epoch 02\n",
      "tr_loss 0.678977 | tr_acc 66.70%\n",
      "val_loss 0.614519 | val_acc 72.13%\n",
      "Epoch 03\n",
      "tr_loss 0.627402 | tr_acc 72.60%\n",
      "val_loss 0.597639 | val_acc 72.45%\n",
      "Epoch 04\n",
      "tr_loss 0.597196 | tr_acc 73.53%\n",
      "val_loss 0.581924 | val_acc 74.71%\n",
      "Epoch 05\n",
      "tr_loss 0.577315 | tr_acc 74.00%\n",
      "val_loss 0.550173 | val_acc 75.88%\n",
      "Epoch 06\n",
      "tr_loss 0.546040 | tr_acc 75.28%\n",
      "val_loss 0.570549 | val_acc 74.06%\n",
      "Epoch 07\n",
      "tr_loss 0.519827 | tr_acc 76.42%\n",
      "val_loss 0.539087 | val_acc 77.17%\n",
      "Epoch 08\n",
      "tr_loss 0.516393 | tr_acc 76.08%\n",
      "val_loss 0.528301 | val_acc 77.81%\n",
      "Epoch 09\n",
      "tr_loss 0.510386 | tr_acc 77.52%\n",
      "val_loss 0.542935 | val_acc 75.03%\n",
      "Epoch 10\n",
      "tr_loss 0.524889 | tr_acc 76.68%\n",
      "val_loss 0.533633 | val_acc 75.56%\n",
      "training CNN ...\n",
      "Epoch 01\n",
      "tr_loss 1.456815 | tr_acc 52.33%\n",
      "val_loss 0.689925 | val_acc 54.77%\n",
      "Epoch 02\n",
      "tr_loss 0.689722 | tr_acc 55.61%\n",
      "val_loss 0.695826 | val_acc 53.05%\n",
      "Epoch 03\n",
      "tr_loss 0.686317 | tr_acc 55.78%\n",
      "val_loss 0.680630 | val_acc 54.66%\n",
      "Epoch 04\n",
      "tr_loss 0.611950 | tr_acc 67.04%\n",
      "val_loss 0.530788 | val_acc 78.35%\n",
      "Epoch 05\n",
      "tr_loss 0.566542 | tr_acc 73.00%\n",
      "val_loss 0.518983 | val_acc 76.53%\n",
      "Epoch 06\n",
      "tr_loss 0.529952 | tr_acc 76.28%\n",
      "val_loss 0.496561 | val_acc 78.99%\n",
      "Epoch 07\n",
      "tr_loss 0.516243 | tr_acc 77.05%\n",
      "val_loss 0.508993 | val_acc 76.10%\n",
      "Epoch 08\n",
      "tr_loss 0.487547 | tr_acc 78.66%\n",
      "val_loss 0.474713 | val_acc 78.67%\n",
      "Epoch 09\n",
      "tr_loss 0.470738 | tr_acc 79.36%\n",
      "val_loss 0.475884 | val_acc 79.42%\n",
      "Epoch 10\n",
      "tr_loss 0.465712 | tr_acc 79.36%\n",
      "val_loss 0.481361 | val_acc 78.14%\n"
     ]
    }
   ],
   "source": [
    "cnnv_stk = np.empty((len(train_data)))\n",
    "cnnv_rec = []\n",
    "for x, y in kf.split(train_data):\n",
    "    train_loader = DataLoader(DSet(train_data[x]), batch_size=128, shuffle=True)\n",
    "    val_data = DSet_(train_data[y]).get_tensor()\n",
    "    model = CNN(100)\n",
    "    cnnv_rec.append(train(model, n_epoch=10)['final'])\n",
    "    cnnv_stk[y] = model(Variable(val_data, volatile=True)).data.numpy().reshape(-1)\n",
    "cnnv_rec = np.mean(cnnv_rec, axis=0)"
   ]
  },
  {
   "cell_type": "code",
   "execution_count": 56,
   "metadata": {},
   "outputs": [
    {
     "data": {
      "text/plain": [
       "array([0.17315637, 0.45348802, 0.84076959, ..., 0.23711844, 0.78286499,\n",
       "       0.8722415 ])"
      ]
     },
     "execution_count": 56,
     "metadata": {},
     "output_type": "execute_result"
    }
   ],
   "source": [
    "cnnv_stk"
   ]
  },
  {
   "cell_type": "code",
   "execution_count": 57,
   "metadata": {},
   "outputs": [
    {
     "data": {
      "text/plain": [
       "array([0.41992238, 0.63247788, 0.94782984, ..., 0.109777  , 0.47246635,\n",
       "       0.90140796])"
      ]
     },
     "execution_count": 57,
     "metadata": {},
     "output_type": "execute_result"
    }
   ],
   "source": [
    "rnnv_stk"
   ]
  },
  {
   "cell_type": "code",
   "execution_count": 60,
   "metadata": {},
   "outputs": [],
   "source": [
    "np.savez('data/stkv.npz', cnnv=cnnv_stk, rnnv=rnnv_stk, cnnr=cnnv_rec, rnnr=rnnv_rec)"
   ]
  },
  {
   "cell_type": "code",
   "execution_count": null,
   "metadata": {},
   "outputs": [],
   "source": []
  }
 ],
 "metadata": {
  "kernelspec": {
   "display_name": "Python 3",
   "language": "python",
   "name": "python3"
  },
  "language_info": {
   "codemirror_mode": {
    "name": "ipython",
    "version": 3
   },
   "file_extension": ".py",
   "mimetype": "text/x-python",
   "name": "python",
   "nbconvert_exporter": "python",
   "pygments_lexer": "ipython3",
   "version": "3.6.4"
  }
 },
 "nbformat": 4,
 "nbformat_minor": 2
}
